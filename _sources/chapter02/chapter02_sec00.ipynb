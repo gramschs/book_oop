{
 "cells": [
  {
   "cell_type": "markdown",
   "id": "18c00243",
   "metadata": {},
   "source": [
    "# 2. Daten speichern und verarbeiten\n",
    "\n",
    "```{admonition} Hinweise zur Vorlesung Objektorientierte Programmierung im WiSe 2025/26\n",
    ":class: warning\n",
    "Dieses Vorlesungsskript wird gerade umgebaut.\n",
    "```\n",
    "\n",
    "Dieses Jupyter Notebook ist der Einstieg in die wissenschaftliche Programmierung\n",
    "mit Python. Zuerst werden wir Python als Taschenrechner benutzen. Danach widmen\n",
    "wir uns einfachen Datentypen und Variablen. Zusammen mit einfachen\n",
    "Python-Kommandos, um Eingaben einer Benutzerin oder eines Benutzers abzufragen\n",
    "und auf dem Bildschirm auszugeben, wird es uns möglich, erste kleinere\n",
    "Python-Skripte zu schreiben. Das entspricht auch dem grundlegenden Ablauf in der\n",
    "Datenverarbeitung, dem EVA-Prinzip, das für Eingabe, Verarbeitung und Ausgabe\n",
    "steht."
   ]
  }
 ],
 "metadata": {
  "jupytext": {
   "cell_metadata_filter": "-all",
   "formats": "ipynb,md:myst",
   "text_representation": {
    "extension": ".md",
    "format_name": "myst",
    "format_version": 0.13,
    "jupytext_version": "1.14.5"
   }
  },
  "kernelspec": {
   "display_name": "Python 3 (ipykernel)",
   "language": "python",
   "name": "python3"
  },
  "source_map": [
   14
  ]
 },
 "nbformat": 4,
 "nbformat_minor": 5
}