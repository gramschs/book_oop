{
 "cells": [
  {
   "cell_type": "markdown",
   "id": "0afc9bce",
   "metadata": {},
   "source": [
    "# 3.1 Wahrheitswerte und Vergleiche\n",
    "\n",
    "```{admonition} Hinweise zur Vorlesung Objektorientierte Programmierung im WiSe 2025/26\n",
    ":class: warning\n",
    "Dieses Vorlesungsskript wird gerade umgebaut.\n",
    "```\n",
    "\n",
    "Viele Möglichkeiten unserer Gesellschaft stehen nur Volljährigen offen und sind\n",
    "damit an eine Altersangabe gebunden. Wenn jetzt ein Computersystem vorab prüfen\n",
    "soll, ob Volljährigkeit vorliegt oder nicht, dann brauchen wir einen einfachen\n",
    "Vergleich. Daher beschäftigen wir uns in diesem Kapitel mit Vergleichen und dem\n",
    "Datentyp Bool.\n",
    "\n",
    "## Lernziele\n",
    "\n",
    "```{admonition} Lernziele\n",
    ":class: goals\n",
    "* Sie kennen den Datentyp **Bool** mit seinen beiden Werten `True` und `False`.\n",
    "* Sie kennen die wichtigsten **Vergleichsoperatoren** für Zahlen und Strings.\n",
    "```\n",
    "\n",
    "## Der Datentyp Bool\n",
    "\n",
    "Zurück zu dem Beispiel mit der Überprüfung der Volljährigkeit. Angenommen, wir\n",
    "speichern das Alter der Benutzers oder der Benutzerin in der Variable `alter`.\n",
    "Damit wäre ein simples Beispiel für eine einfache Bedingung der mathematische\n",
    "Ausdruck `alter < 18`. Der Wert der Variablen `alter` wird also mit der Zahl 18\n",
    "verglichen. Dieser Vergleich ist entweder **wahr (True)** oder **falsch\n",
    "(False)**. Oder anders formuliert, diese Bedingung ist entweder erfüllt oder\n",
    "nicht erfüllt.\n",
    "\n",
    "Um den Wahrheitswert einer Bedingung zu speichern, hat Python einen eigenen\n",
    "Datentyp, einen sogenannten booleschen Datentyp. Nach dem englischen Wort wird\n",
    "dieser Datentyp in der Informatik üblicherweise **Bool** oder **Boolean**\n",
    "genannt. Das besondere an diesem Datentyp ist, dass eine Variable diesen\n",
    "Datentyps nur zwei verschiedene Werte annehmen kann, nämlich\n",
    "\n",
    "* True: Wahrheitswert ist wahr oder\n",
    "* False: Wahrheitswert ist falsch.\n",
    "\n",
    "Aber wie kann man dann überprüfen, welcher Datentyp in einer Variablen\n",
    "gespeichert ist? Dazu gibt es das Kommando `type`. Führen Sie die nächste\n",
    "Code-Zelle aus."
   ]
  },
  {
   "cell_type": "code",
   "execution_count": 1,
   "id": "326d2122",
   "metadata": {},
   "outputs": [
    {
     "data": {
      "text/plain": [
       "bool"
      ]
     },
     "execution_count": 1,
     "metadata": {},
     "output_type": "execute_result"
    }
   ],
   "source": [
    "a = False\n",
    "type(a)"
   ]
  },
  {
   "cell_type": "markdown",
   "id": "9012191c",
   "metadata": {},
   "source": [
    "## Vergleiche mit Zahlen\n",
    "\n",
    "Nachdem wir jetzt den Datentyp kennengelernt haben, mit dem Python das Ergebnis\n",
    "eines Vergleichs speichert, kommen wir nun zu dem Vergleich selbst.\n",
    "\n",
    "Zunächst beschäftigen wir uns mit mathematischen Vergleichen. In der Mathematik\n",
    "ist ein Vergleich ein Ausdruck mit zwei Argumenten und einem Vergleichsoperator\n",
    "in der Mitte. Die beiden Argumente können auch unterschiedliche Datentypen\n",
    "haben, dann muss der Vergleichsoperator aber sinnvoll für diese Datentypen\n",
    "definiert sein. Zum Beispiel darf man einen Integer mit einem Float vergleichen\n",
    "\n",
    "`3 < 17.2`\n",
    "\n",
    "aber\n",
    "\n",
    "`3 < 'vier'`\n",
    "\n",
    "ist nicht sinnvoll und undefiniert. Es gibt die folgenden Vergleichsoperatoren\n",
    "in Python:\n",
    "\n",
    "* `<`   kleiner\n",
    "* `<=`  kleiner oder gleich\n",
    "* `>`   größer\n",
    "* `>=`  größer oder gleich\n",
    "* `==`  gleich\n",
    "* `!=` ungleich\n",
    "\n",
    "Im interaktiven Modus von Python können wir leicht den Wahrheitsgehalt von\n",
    "Vergleichen überprüfen. Wir setzen eine Variable auf den Wert 7:"
   ]
  },
  {
   "cell_type": "code",
   "execution_count": 2,
   "id": "aea6d588",
   "metadata": {},
   "outputs": [],
   "source": [
    "x = 7"
   ]
  },
  {
   "cell_type": "markdown",
   "id": "2ba134c9",
   "metadata": {},
   "source": [
    "Jetzt probieren wir in den nachfolgenden Code-Zellen verschiedene\n",
    "Vergleichsoperatoren aus.\n",
    "\n",
    "Ist x genau gleich 15?"
   ]
  },
  {
   "cell_type": "code",
   "execution_count": 3,
   "id": "af858cd9",
   "metadata": {},
   "outputs": [
    {
     "data": {
      "text/plain": [
       "False"
      ]
     },
     "execution_count": 3,
     "metadata": {},
     "output_type": "execute_result"
    }
   ],
   "source": [
    "x == 15    "
   ]
  },
  {
   "cell_type": "markdown",
   "id": "3b5f3233",
   "metadata": {},
   "source": [
    "Ist x kleiner als 42?"
   ]
  },
  {
   "cell_type": "code",
   "execution_count": 4,
   "id": "f5d88149",
   "metadata": {},
   "outputs": [
    {
     "data": {
      "text/plain": [
       "True"
      ]
     },
     "execution_count": 4,
     "metadata": {},
     "output_type": "execute_result"
    }
   ],
   "source": [
    "x < 42"
   ]
  },
  {
   "cell_type": "markdown",
   "id": "fdfcfd29",
   "metadata": {},
   "source": [
    "Ist x genau 30?"
   ]
  },
  {
   "cell_type": "code",
   "execution_count": 5,
   "id": "c78b51a2",
   "metadata": {},
   "outputs": [
    {
     "data": {
      "text/plain": [
       "False"
      ]
     },
     "execution_count": 5,
     "metadata": {},
     "output_type": "execute_result"
    }
   ],
   "source": [
    "x == 30"
   ]
  },
  {
   "cell_type": "markdown",
   "id": "c659ac04",
   "metadata": {},
   "source": [
    "Ist x ungleich 42?"
   ]
  },
  {
   "cell_type": "code",
   "execution_count": 6,
   "id": "11b24685",
   "metadata": {},
   "outputs": [
    {
     "data": {
      "text/plain": [
       "True"
      ]
     },
     "execution_count": 6,
     "metadata": {},
     "output_type": "execute_result"
    }
   ],
   "source": [
    "x != 42 "
   ]
  },
  {
   "cell_type": "markdown",
   "id": "ddfd2c5b",
   "metadata": {},
   "source": [
    "Ist x größer als 30?"
   ]
  },
  {
   "cell_type": "code",
   "execution_count": 7,
   "id": "0298c051",
   "metadata": {},
   "outputs": [
    {
     "data": {
      "text/plain": [
       "False"
      ]
     },
     "execution_count": 7,
     "metadata": {},
     "output_type": "execute_result"
    }
   ],
   "source": [
    "x > 30"
   ]
  },
  {
   "cell_type": "markdown",
   "id": "02db8459",
   "metadata": {},
   "source": [
    "Ist x größer gleich 30?"
   ]
  },
  {
   "cell_type": "code",
   "execution_count": 8,
   "id": "d242ba7e",
   "metadata": {},
   "outputs": [
    {
     "data": {
      "text/plain": [
       "False"
      ]
     },
     "execution_count": 8,
     "metadata": {},
     "output_type": "execute_result"
    }
   ],
   "source": [
    "x >= 30"
   ]
  },
  {
   "cell_type": "markdown",
   "id": "bd1baf6e",
   "metadata": {},
   "source": [
    "```{admonition} Mini-Übung\n",
    ":class: miniexercise\n",
    "Wählen Sie sich eine Zahl. Testen Sie anschließend:\n",
    "* Ist Ihre Zahl kleiner gleich 5?\n",
    "* Ist Ihre Zahl genau 17?\n",
    "* Ist Ihre Zahl nicht gleich 17?\n",
    "* Ist Ihre Zahl positiv?\n",
    "* Ist Ihre Zahl kleiner als -17.7?\n",
    "```"
   ]
  },
  {
   "cell_type": "code",
   "execution_count": 9,
   "id": "03054155",
   "metadata": {},
   "outputs": [],
   "source": [
    "# Geben Sie nach diesem Kommentar Ihren Code ein:\n"
   ]
  },
  {
   "cell_type": "markdown",
   "id": "56c58cae",
   "metadata": {},
   "source": [
    "````{admonition} Lösung\n",
    ":class: miniexercise, toggle\n",
    "```python\n",
    "# Eingabe: Wahl meiner Zahl\n",
    "x = 33\n",
    "\n",
    "# kleiner gleich 5?\n",
    "x <= 5\n",
    "\n",
    "# genau gleich 17?\n",
    "x == 17\n",
    "\n",
    "# nicht gleich 17?\n",
    "x != 17\n",
    "\n",
    "# positiv?\n",
    "x > 0\n",
    "\n",
    "# kleiner als -17.7?\n",
    "x < -17.7\n",
    "```\n",
    "````\n",
    "\n",
    "```{dropdown} Video \"Vergleiche in Python\" von Programmieren Starten\n",
    "<iframe width=\"560\" height=\"315\" src=\"https://www.youtube.com/embed/ucsv_Nhhxmk\"\n",
    "title=\"YouTube video player\" frameborder=\"0\" allow=\"accelerometer; autoplay; clipboard-write;\n",
    "encrypted-media; gyroscope; picture-in-picture\" allowfullscreen></iframe>\n",
    "```\n",
    "\n",
    "## Vergleiche mit Strings\n",
    "\n",
    "Als nächstes werden wir uns mit der Verwendung von Strings in Vergleichen\n",
    "beschäftigen. Strings werden häufig in Vergleichen verwendet, um festzustellen,\n",
    "ob zwei Strings gleich sind oder ob ein String in einem anderen enthalten ist.\n",
    "\n",
    "Um festzustellen, ob zwei Strings in Python gleich sind, können wir den\n",
    "Gleichheitsoperator `==` verwenden. Der Gleichheitsoperator gibt `True` zurück,\n",
    "wenn die beiden Strings exakt übereinstimmen, und `False`, wenn sie sich\n",
    "unterscheiden."
   ]
  },
  {
   "cell_type": "code",
   "execution_count": 10,
   "id": "580b61df",
   "metadata": {},
   "outputs": [
    {
     "name": "stdout",
     "output_type": "stream",
     "text": [
      "False\n",
      "True\n",
      "False\n"
     ]
    }
   ],
   "source": [
    "string01 = 'Hallo'\n",
    "string02 = 'Welt'\n",
    "string03 = 'Hallo'\n",
    "string04 = 'hallo'\n",
    "\n",
    "print(string01 == string02)  # Ausgabe: False\n",
    "print(string01 == string03)  # Ausgabe: True\n",
    "print(string01 == string04)  # Ausgabe: False"
   ]
  },
  {
   "cell_type": "markdown",
   "id": "96895704",
   "metadata": {},
   "source": [
    "In diesem Beispiel sind die Strings `string01` und `string03` gleich. Der String\n",
    "`string02` ist jedoch unterschiedlich von `string01`, daher ist das Ergebnis\n",
    "`False`. Beachten Sie auch, dass der String `string04` nicht gleich `string01`\n",
    "ist, obwohl er den gleichen Wert hat, da Groß- und Kleinschreibung in Python bei\n",
    "der Vergleichsoperation berücksichtigt werden.\n",
    "\n",
    "Um zu überprüfen, ob ein String in einem anderen enthalten ist, können wir den\n",
    "Operator `in` verwenden. Der Operator `in` gibt `True` zurück, wenn der String\n",
    "in dem anderen String enthalten ist, und `False`, wenn nicht."
   ]
  },
  {
   "cell_type": "code",
   "execution_count": 11,
   "id": "76b71af2",
   "metadata": {},
   "outputs": [
    {
     "name": "stdout",
     "output_type": "stream",
     "text": [
      "True\n",
      "False\n"
     ]
    }
   ],
   "source": [
    "string01 = 'Hallo Welt'\n",
    "string02 = 'Welt'\n",
    "string03 = 'Python'\n",
    "\n",
    "print(string02 in string01)  # Ausgabe: True\n",
    "print(string03 in string01)  # Ausgabe: False"
   ]
  },
  {
   "cell_type": "markdown",
   "id": "213cc736",
   "metadata": {},
   "source": [
    "In diesem Beispiel ist der String `string02` in dem String `string01` enthalten,\n",
    "daher ist das Ergebnis `True`. Der String `string03` ist jedoch nicht in\n",
    "`string01` enthalten, daher ist das Ergebnis `False`.\n",
    "\n",
    "Beachten Sie, dass bei der Überprüfung die Groß- und Kleinschreibung in Python\n",
    "beachtet werden muss. Wenn wir also nach dem String `'welt'` suchen, erhalten wir\n",
    "`False`, da der String `'Welt'` großgeschrieben ist.\n",
    "\n",
    "Wir können auch andere Vergleichsoperationen wie <, >, <=, >= mit Strings\n",
    "verwenden. Diese Operationen vergleichen die Strings nach ihrem\n",
    "lexikographischen Wert, d.h. sie vergleichen die Zeichen eines Strings in der\n",
    "Reihenfolge, in der sie auftreten."
   ]
  },
  {
   "cell_type": "code",
   "execution_count": 12,
   "id": "a99ab49c",
   "metadata": {},
   "outputs": [
    {
     "name": "stdout",
     "output_type": "stream",
     "text": [
      "True\n",
      "False\n",
      "True\n",
      "False\n"
     ]
    }
   ],
   "source": [
    "a = \"Apfel\"\n",
    "b = \"Banane\"\n",
    "\n",
    "print(a < b)  # Ausgabe: True\n",
    "print(a > b)  # Ausgabe: False\n",
    "print(a <= b)  # Ausgabe: True\n",
    "print(a >= b)  # Ausgabe: False"
   ]
  },
  {
   "cell_type": "markdown",
   "id": "e5003576",
   "metadata": {},
   "source": [
    "In diesem Beispiel ist `'Apfel'` kleiner als `'Banane'`, da \"A\" im Alphabet vor\n",
    "\"B\" steht, daher ist das Ergebnis des `<`-Operators `True`. Der `>`-Operator\n",
    "gibt `False` zurück, da `'Apfel'` nicht größer als `'Banane'` ist. Der\n",
    "`<=`-Operator gibt `True` zurück, da `'Apfel'` kleiner oder gleich `'Banane'`\n",
    "ist. Der `>=`-Operator gibt `False` zurück, da `'Apfel'` nicht größer oder\n",
    "gleich `'Banane'` ist.\n",
    "\n",
    "````{admonition} Mini-Übung\n",
    ":class: miniexercise\n",
    "Gegeben sind die folgenden Strings:\n",
    "```python\n",
    "material1 = \"Stahl\"\n",
    "material2 = \"Aluminium\"\n",
    "material3 = \"Stahllegierung\"\n",
    "material4 = \"aluminium\"\n",
    "```\n",
    "Überprüfen Sie folgende Vergleiche und notieren Sie, ob das Ergebnis `True` oder\n",
    "`False` ist:\n",
    "\n",
    "1. Ist `material1` lexikographisch größer als `material2`?\n",
    "2. Enthält `material3` den String `material1`?\n",
    "3. Sind `material2` und `material4` identisch?\n",
    "4. Überprüfen Sie mit dem `in-`Operator, ob die Zeichenfolge \"leg\" in\n",
    "   `material3` vorkommt.\n",
    "5. Ist `material4` lexikographisch kleiner als `material1`?\n",
    "````"
   ]
  },
  {
   "cell_type": "code",
   "execution_count": 13,
   "id": "6c132336",
   "metadata": {},
   "outputs": [],
   "source": [
    "# Geben Sie nach diesem Kommentar Ihren Code ein:\n"
   ]
  },
  {
   "cell_type": "markdown",
   "id": "79e0df7b",
   "metadata": {},
   "source": [
    "````{admonition} Lösung\n",
    ":class: miniexercise, toggle\n",
    "```python\n",
    "material1 = \"Stahl\"\n",
    "material2 = \"Aluminium\"\n",
    "material3 = \"Stahllegierung\"\n",
    "material4 = \"aluminium\"\n",
    "\n",
    "# 1. Ist material1 lexikographisch größer als material2?\n",
    "print(material1 > material2)  # True, da 'S' im Alphabet nach 'A' kommt\n",
    "\n",
    "# 2. Enthält material3 den String material1?\n",
    "print(material1 in material3)  # True, da \"Stahl\" in \"Stahllegierung\" enthalten ist\n",
    "\n",
    "# 3. Sind material2 und material4 identisch?\n",
    "print(material2 == material4)  # False, da Groß-/Kleinschreibung unterschiedlich ist\n",
    "\n",
    "# 4. Überprüfen Sie mit dem in-Operator, ob die Zeichenfolge \"leg\" in material3 vorkommt.\n",
    "print(\"leg\" in material3)  # True, da \"leg\" in \"Stahllegierung\" enthalten ist\n",
    "\n",
    "# 5. Ist material4 lexikographisch kleiner als material1?\n",
    "print(material4 < material1)  # False, da Großbuchstaben im ASCII-Code vor Kleinbuchstaben kommen\n",
    "```\n",
    "````\n",
    "\n",
    "## Zusammenfassung und Ausblick\n",
    "\n",
    "In diesem Kapitel haben wir den booleschen Datentyp Bool mit seinen Werten True\n",
    "und False kennengelernt. Wir haben Vergleichsoperatoren (<, >, ==, !=, <=, >=)\n",
    "für Zahlen und Strings untersucht und gesehen, wie String-Vergleiche auf\n",
    "lexikographischer Ordnung basieren. Außerdem haben wir den 'in'-Operator zur\n",
    "Überprüfung von Teil-Strings kennengelernt.\n",
    "\n",
    "## Lernziele 2\n",
    "\n",
    "```{admonition} Lernziele\n",
    ":class: goals\n",
    "* Sie kennen die logischen Operatoren und können diese in Python einsetzen:\n",
    "    * logisches UND: `and`\n",
    "    * logisches ODER: `or`\n",
    "    * logisches NICHT: `not`\n",
    "* Sie verstehen die Priorität der logischen Operatoren und können komplexe\n",
    "  Bedingungen korrekt formulieren.\n",
    "```\n",
    "\n",
    "## Das logische UND\n",
    "\n",
    "Beim logischen UND müssen beide Bedingungen erfüllt sein, damit insgesamt die\n",
    "kombinierte Bedingung erfüllt ist. Vergleichbar ist dies mit einer\n",
    "Reihenschaltung in der Elektrotechnik: Nur wenn beide Schalter eingeschaltet\n",
    "sind, kann der Strom fließen.\n",
    "\n",
    "Hier finden Sie ein erläuterndes Video (ca. 3:14 min) zur UND-Schaltung:\n",
    "\n",
    "<https://www.youtube.com/watch?v=79WVEr2BVZI>\n",
    "\n",
    "Die Ergebnisse der UND-Verknüpfung lassen sich in einer Wahrheitstabelle\n",
    "darstellen:\n",
    "\n",
    "Bedingung 1 | Bedingung 2 | Ergebnis mit ```and```\n",
    "------------|-------------|--------------------------\n",
    "True | True | True\n",
    "False | True | False\n",
    "True | False | False\n",
    "False | False | False\n",
    "\n",
    "Beispiel aus der Industrie: Ein automatisches Werkzeug darf nur dann betätigt\n",
    "werden, wenn das Werkstück korrekt eingespannt ist UND der Sicherheitsbereich\n",
    "frei ist:"
   ]
  },
  {
   "cell_type": "code",
   "execution_count": 14,
   "id": "2ea1e010",
   "metadata": {},
   "outputs": [
    {
     "name": "stdout",
     "output_type": "stream",
     "text": [
      "Werkzeug kann betätigt werden.\n"
     ]
    }
   ],
   "source": [
    "werkstueck_eingespannt = True\n",
    "sicherheitsbereich_frei = True\n",
    "\n",
    "if werkstueck_eingespannt and sicherheitsbereich_frei:\n",
    "    print('Werkzeug kann betätigt werden.')\n",
    "else:\n",
    "    print('Sicherheitsvoraussetzungen nicht erfüllt.')"
   ]
  },
  {
   "cell_type": "markdown",
   "id": "9c1ef047",
   "metadata": {},
   "source": [
    "Bei komplexeren Bedingungen kann die Verwendung von Klammern die Lesbarkeit\n",
    "verbessern, auch wenn dies syntaktisch nicht immer erforderlich ist:"
   ]
  },
  {
   "cell_type": "code",
   "execution_count": 15,
   "id": "dad28e86",
   "metadata": {},
   "outputs": [
    {
     "name": "stdout",
     "output_type": "stream",
     "text": [
      "System arbeitet im normalen Betriebszustand.\n"
     ]
    }
   ],
   "source": [
    "temperatur = 75\n",
    "druck = 3.5\n",
    "\n",
    "if (temperatur < 80) and (druck < 4.0):\n",
    "    print('System arbeitet im normalen Betriebszustand.')\n",
    "else:\n",
    "    print('System außerhalb der normalen Parameter.')"
   ]
  },
  {
   "cell_type": "markdown",
   "id": "8a6c7266",
   "metadata": {},
   "source": [
    "```{admonition} Mini-Übung\n",
    ":class: miniexercise\n",
    "Schreiben Sie ein Programm für die Steuerung einer Hydraulikpresse. Die Presse\n",
    "darf nur betätigt werden, wenn\n",
    "\n",
    "1. die Betriebstemperatur zwischen 60°C und 85°C liegt und\n",
    "2. der Druck zwischen 2.5 und 5.0 bar beträgt.\n",
    "\n",
    "Lassen Sie die Werte vom Benutzer eingeben und geben Sie eine entsprechende\n",
    "Meldung aus.\n",
    "```"
   ]
  },
  {
   "cell_type": "code",
   "execution_count": 16,
   "id": "d9430423",
   "metadata": {},
   "outputs": [],
   "source": [
    "# Hier Ihr Code"
   ]
  },
  {
   "cell_type": "markdown",
   "id": "03d627a2",
   "metadata": {},
   "source": [
    "````{admonition} Lösung\n",
    ":class: miniexercise, toggle\n",
    "```python\n",
    "# Eingabe\n",
    "temperatur = float(input('Aktuelle Betriebstemperatur (°C): '))\n",
    "druck = float(input('Aktueller Druck (bar): '))\n",
    "\n",
    "# Verarbeitung und Ausgabe\n",
    "if (60 <= temperatur <= 85) and (2.5 <= druck <= 5.0):\n",
    "    print('Hydraulikpresse kann betätigt werden.')\n",
    "else:\n",
    "    print('Betriebsparameter außerhalb des sicheren Bereichs!')\n",
    "```\n",
    "````\n",
    "\n",
    "## Das logische ODER\n",
    "\n",
    "Beim logischen ODER muss nur eine der Bedingungen erfüllt sein, damit insgesamt\n",
    "die kombinierte Bedingung erfüllt ist. Die Bedingung ist auch erfüllt, wenn\n",
    "beide Teilbedingungen wahr sind. Vergleichbar ist dies mit einer\n",
    "Parallelschaltung in der Elektrotechnik: Es reicht, wenn einer der beiden\n",
    "Schalter eingeschaltet ist, damit der Strom fließen kann.\n",
    "\n",
    "Hier finden Sie ein erläuterndes Video (ca. 2:42 min) zur ODER-Schaltung:\n",
    "\n",
    "<https://www.youtube.com/watch?v=UNkXbvSN9w8>\n",
    "\n",
    "Die Wahrheitstabelle für das logische ODER:\n",
    "\n",
    "Bedingung 1 | Bedingung 2 | Ergebnis mit ```or```\n",
    "------------|-------------|--------------------------\n",
    "True | True | True\n",
    "False | True | True\n",
    "True | False | True\n",
    "False | False | False\n",
    "\n",
    "Beispiel aus der Produktion: Ein Notaus-System muss aktiviert werden, wenn\n",
    "entweder der Temperaturwert zu hoch ist ODER der Druckwert einen kritischen Wert\n",
    "überschreitet:"
   ]
  },
  {
   "cell_type": "code",
   "execution_count": 17,
   "id": "7a0a0419",
   "metadata": {},
   "outputs": [
    {
     "name": "stdout",
     "output_type": "stream",
     "text": [
      "WARNUNG: Notabschaltung wird eingeleitet!\n"
     ]
    }
   ],
   "source": [
    "temperatur = 95  # in Grad Celsius\n",
    "druck = 4.8      # in bar\n",
    "\n",
    "if (temperatur > 90) or (druck > 5.0):\n",
    "    print('WARNUNG: Notabschaltung wird eingeleitet!')\n",
    "else:\n",
    "    print('System arbeitet im normalen Betriebsbereich.')"
   ]
  },
  {
   "cell_type": "markdown",
   "id": "f524ee0a",
   "metadata": {},
   "source": [
    "Python verwendet eine sogenannte **Kurzschlussauswertung** für logische\n",
    "Operatoren. Dies bedeutet:\n",
    "\n",
    "* Bei einem `and`-Ausdruck: Wenn der erste Teil `False` ist, wird der zweite\n",
    "  Teil nicht mehr ausgewertet.\n",
    "* Bei einem `or`-Ausdruck: Wenn der erste Teil `True` ist, wird der zweite Teil\n",
    "  nicht mehr ausgewertet.\n",
    "\n",
    "Dies kann man sich zur Verbesserung der Performance zunutze machen, indem man\n",
    "bei `and`-Verknüpfungen die Bedingung mit der höheren Wahrscheinlichkeit für\n",
    "`False` zuerst platziert.\n",
    "\n",
    "```{admonition} Mini-Übung\n",
    ":class: miniexercise\n",
    "Schreiben Sie ein Programm für ein Alarmsystem einer CNC-Fräse. Das System soll\n",
    "einen Alarm auslösen, wenn:\n",
    "\n",
    "1. Die Drehzahl unter 500 U/min fällt oder über 2000 U/min steigt\n",
    "2. Die Kühlmitteltemperatur über 60°C steigt\n",
    "\n",
    "Lassen Sie die Werte vom Benutzer eingeben und geben Sie eine entsprechende\n",
    "Meldung aus.\n",
    "```"
   ]
  },
  {
   "cell_type": "code",
   "execution_count": 18,
   "id": "78878e70",
   "metadata": {},
   "outputs": [],
   "source": [
    "# Hier Ihr Code"
   ]
  },
  {
   "cell_type": "markdown",
   "id": "282492af",
   "metadata": {},
   "source": [
    "````{admonition} Lösung\n",
    ":class: miniexercise, toggle\n",
    "```python\n",
    "# Eingabe\n",
    "drehzahl = float(input('Aktuelle Drehzahl (U/min): '))\n",
    "kuehlmitteltemperatur = float(input('Aktuelle Kühlmitteltemperatur (°C): '))\n",
    "\n",
    "# Verarbeitung und Ausgabe\n",
    "if (drehzahl < 500) or (drehzahl > 2000) or (kuehlmitteltemperatur > 60):\n",
    "    print('ALARM: Betriebsparameter außerhalb des sicheren Bereichs!')\n",
    "else:\n",
    "    print('System arbeitet im normalen Betriebsbereich.')\n",
    "```\n",
    "````\n",
    "\n",
    "## Das logische NICHT\n",
    "\n",
    "Das logische NICHT kehrt eine Aussage um. Wenn eine Bedingung wahr ist, wird sie\n",
    "falsch und umgekehrt. In Python verwenden wir den Operator `not` für diese\n",
    "Umkehrung.\n",
    "\n",
    "Die Wahrheitstabelle für das logische NICHT:\n",
    "\n",
    "Bedingung | Ergebnis mit ```not```\n",
    "----------|--------------------------\n",
    "True | False\n",
    "False | True\n",
    "\n",
    "Beispiel aus dem Maschinenbau: Eine Maschine darf nicht gestartet werden, wenn\n",
    "der Wartungsmodus aktiviert ist:"
   ]
  },
  {
   "cell_type": "code",
   "execution_count": 19,
   "id": "3ea8b004",
   "metadata": {},
   "outputs": [
    {
     "name": "stdout",
     "output_type": "stream",
     "text": [
      "Maschine im Wartungsmodus: Start nicht möglich.\n"
     ]
    }
   ],
   "source": [
    "wartungsmodus_aktiv = True\n",
    "\n",
    "if not wartungsmodus_aktiv:\n",
    "    print('Maschine kann gestartet werden.')\n",
    "else:\n",
    "    print('Maschine im Wartungsmodus: Start nicht möglich.')"
   ]
  },
  {
   "cell_type": "markdown",
   "id": "89fd4c05",
   "metadata": {},
   "source": [
    "Die Verwendung von `not` kann oft komplexe Bedingungen vereinfachen. Statt zu\n",
    "prüfen, ob ein Wert außerhalb eines Bereichs liegt, kann man prüfen, ob er nicht\n",
    "innerhalb des Bereichs liegt:"
   ]
  },
  {
   "cell_type": "code",
   "execution_count": 20,
   "id": "26e7ae1c",
   "metadata": {},
   "outputs": [],
   "source": [
    "temperatur = 78\n",
    "\n",
    "# Diese beiden Bedingungen sind äquivalent\n",
    "if (temperatur < 60) or (temperatur > 85):\n",
    "    print('Temperatur außerhalb des Betriebsbereichs.')\n",
    "    \n",
    "if not (60 <= temperatur <= 85):\n",
    "    print('Temperatur außerhalb des Betriebsbereichs.')"
   ]
  },
  {
   "cell_type": "markdown",
   "id": "56c9b048",
   "metadata": {},
   "source": [
    "## Priorität der logischen Operatoren\n",
    "\n",
    "Bei mehreren logischen Operatoren in einem Ausdruck ist die Reihenfolge der\n",
    "Auswertung wichtig. In Python gilt folgende Priorität:\n",
    "\n",
    "1. Klammern `()`\n",
    "2. Nicht `not`\n",
    "3. Und `and`\n",
    "4. Oder `or`\n",
    "\n",
    "Zur Verdeutlichung einige Beispiele:"
   ]
  },
  {
   "cell_type": "code",
   "execution_count": 21,
   "id": "fc233eff",
   "metadata": {},
   "outputs": [
    {
     "name": "stdout",
     "output_type": "stream",
     "text": [
      "not a and b = False\n",
      "a and b or c = True\n",
      "a and (b or c) = True\n"
     ]
    }
   ],
   "source": [
    "# Priorität der logischen Operatoren\n",
    "a = True\n",
    "b = False\n",
    "c = True\n",
    "\n",
    "# not hat Vorrang vor and\n",
    "ergebnis1 = not a and b  # entspricht (not a) and b\n",
    "print(f\"not a and b = {ergebnis1}\")\n",
    "\n",
    "# and hat Vorrang vor or\n",
    "ergebnis2 = a and b or c  # entspricht (a and b) or c\n",
    "print(f\"a and b or c = {ergebnis2}\")\n",
    "\n",
    "# Klammern ändern die Priorität\n",
    "ergebnis3 = a and (b or c)  # erst b or c, dann and\n",
    "print(f\"a and (b or c) = {ergebnis3}\")"
   ]
  },
  {
   "cell_type": "markdown",
   "id": "9da4cfe9",
   "metadata": {},
   "source": [
    "Um Missverständnisse zu vermeiden, ist es oft ratsam, Klammern zu setzen, auch\n",
    "wenn sie aufgrund der Prioritätsregeln nicht unbedingt nötig wären. Dies\n",
    "verbessert die Lesbarkeit des Codes.\n",
    "\n",
    "```{admonition} Mini-Übung\n",
    ":class: miniexercise\n",
    "Überlegen Sie zunächst, was das Ergebnis der folgenden logischen Verknüpfungen\n",
    "ist (wahr oder falsch):\n",
    "\n",
    "1. True and True\n",
    "2. True or False\n",
    "3. not True\n",
    "4. False or True\n",
    "5. True or (not False)\n",
    "6. (not True) and False\n",
    "7. not (True or False)\n",
    "8. (not False) or (False and False)\n",
    "\n",
    "Prüfen Sie Ihre Antworten anschließend im Python-Interpreter.\n",
    "```"
   ]
  },
  {
   "cell_type": "code",
   "execution_count": 22,
   "id": "08e30555",
   "metadata": {},
   "outputs": [],
   "source": [
    "# Hier Ihr Code"
   ]
  },
  {
   "cell_type": "markdown",
   "id": "0c0568c6",
   "metadata": {},
   "source": [
    "````{admonition} Lösung\n",
    ":class: miniexercise, toggle\n",
    "```python\n",
    "# 1. True and True\n",
    "print(\"True and True =\", True and True)  # True\n",
    "\n",
    "# 2. True or False\n",
    "print(\"True or False =\", True or False)  # True\n",
    "\n",
    "# 3. not True\n",
    "print(\"not True =\", not True)  # False\n",
    "\n",
    "# 4. False or True\n",
    "print(\"False or True =\", False or True)  # True\n",
    "\n",
    "# 5. True or (not False)\n",
    "print(\"True or (not False) =\", True or (not False))  # True\n",
    "\n",
    "# 6. (not True) and False\n",
    "print(\"(not True) and False =\", (not True) and False)  # False\n",
    "\n",
    "# 7. not (True or False)\n",
    "print(\"not (True or False) =\", not (True or False))  # False\n",
    "\n",
    "# 8. (not False) or (False and False)\n",
    "print(\"(not False) or (False and False) =\", (not False) or (False and False))  # True\n",
    "```\n",
    "````\n",
    "\n",
    "```{dropdown} Video zu \"Logische Operatoren\" von Programmieren Starten\n",
    "<iframe width=\"560\" height=\"315\" src=\"https://www.youtube.com/embed/075l6R42tkQ\"\n",
    "title=\"YouTube video player\" frameborder=\"0\" allow=\"accelerometer; autoplay; clipboard-write;\n",
    "encrypted-media; gyroscope; picture-in-picture\" allowfullscreen></iframe>\n",
    "```\n",
    "\n",
    "## Zusammenfassung und Ausblick 2\n",
    "\n",
    "Die booleschen Operatoren `and`, `or` und `not` sind fundamentale Werkzeuge für\n",
    "die Programmierung von Bedingungen in Python. Sie ermöglichen die Formulierung\n",
    "komplexer Entscheidungslogik und sind besonders für Steuerungs- und\n",
    "Regelungsanwendungen von großer Bedeutung. Im nächsten Kapitel beschäftigen wir\n",
    "uns mit Schleifen."
   ]
  }
 ],
 "metadata": {
  "jupytext": {
   "formats": "ipynb,md:myst",
   "text_representation": {
    "extension": ".md",
    "format_name": "myst",
    "format_version": 0.13,
    "jupytext_version": "1.13.8"
   }
  },
  "kernelspec": {
   "display_name": "Python 3 (ipykernel)",
   "language": "python",
   "name": "python3"
  },
  "language_info": {
   "codemirror_mode": {
    "name": "ipython",
    "version": 3
   },
   "file_extension": ".py",
   "mimetype": "text/x-python",
   "name": "python",
   "nbconvert_exporter": "python",
   "pygments_lexer": "ipython3",
   "version": "3.12.2"
  },
  "source_map": [
   13,
   59,
   62,
   94,
   96,
   103,
   105,
   109,
   111,
   115,
   117,
   121,
   123,
   127,
   129,
   133,
   135,
   147,
   150,
   192,
   201,
   213,
   220,
   235,
   243,
   272,
   275,
   347,
   355,
   360,
   368,
   382,
   384,
   426,
   434,
   460,
   462,
   495,
   502,
   508,
   517,
   531,
   548,
   571,
   573
  ]
 },
 "nbformat": 4,
 "nbformat_minor": 5
}