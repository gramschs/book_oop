{
 "cells": [
  {
   "cell_type": "markdown",
   "id": "d55dfd36",
   "metadata": {},
   "source": [
    "# 2.2 Datentypen\n",
    "\n",
    "```{admonition} Hinweise zur Vorlesung Objektorientierte Programmierung im WiSe 2025/26\n",
    ":class: warning\n",
    "Dieses Vorlesungsskript wird gerade umgebaut.\n",
    "```\n",
    "\n",
    "Mit Zahlen wird anders umgegangen, als mit Texten. Zahlen werden beispielsweise\n",
    "addiert, bei Texten werden beispielsweise Kleinbuchstaben durch Großbuchstaben\n",
    "ersetzt. Daher ist es nicht verwunderlich, dass Python für beide Arten von\n",
    "Informationen eine andere technische Umsetzung verwendet. Das führt zu dem Thema\n",
    "Datentypen und dem Speichern von Informationen in Variablen.\n",
    "\n",
    "## Lernziele\n",
    "\n",
    "```{admonition} Lernziele\n",
    ":class: goals\n",
    "* Sie wissen, was **Datentypen** sind.\n",
    "* Sie kennen den Unterschied zwischen **Ganzzahlen** und **Fließkommazahlen**\n",
    "  und die dazugehörigen Datentypen **Integer** und **Float**.\n",
    "* Sie kennen den Datentyp **String**, der **Zeichenketten** repräsentiert.\n",
    "* Sie können mit der Funktion **type()** den Datentyp einer Variable ermitteln.\n",
    "```\n",
    "\n",
    "## Datentypen in Python\n",
    "\n",
    "Der Computer kann Informationen nur als 0 oder 1 verarbeiten. Auf dem\n",
    "Speichermedium oder im Speicher selbst werden Daten daher als eine Folge von 0\n",
    "und 1 gespeichert. Damit es für uns Programmiererinnen und Programmierer\n",
    "einfacher wird, Daten zu speichern und zu verarbeiten, wurden Datentypen\n",
    "eingeführt.  \n",
    "\n",
    "**Datentypen** fassen gleichartige Objekte zusammen und stellen passende\n",
    "Operationen zur Verfügung. Es hängt von der Programmiersprache ab, welche\n",
    "Datentypen zur Verfügung stehen, wie diese im Hintergrund gespeichtert werden\n",
    "und welche Operationen damit möglich sind. In diesem Kapitel beschäftigen wir\n",
    "uns mit den einfachen Datentypen\n",
    "\n",
    "* Integer\n",
    "* Float\n",
    "* String\n",
    "\n",
    "### Zahlen (Integers und Floats)\n",
    "\n",
    "In der Programmierung unterscheidet man grundsätzlich zwischen zwei Zahlenarten,\n",
    "den **Ganzzahlen** und den Gleitkommazahlen, die auch **Fließkommazahlen**\n",
    "genannt werden. Die Ganzzahlen werden in der Mathematik als ganze Zahlen\n",
    "bezeichnet. In der Informatik wird meist der englische Begriff **Integer**\n",
    "verwendet. Mit Integern können wir ganz normal rechnen, also Operationen\n",
    "ausführen. Einige davon haben wir ja bereits ausprobiert, als wir Python als\n",
    "Taschenrechner benutzt haben:"
   ]
  },
  {
   "cell_type": "code",
   "execution_count": 1,
   "id": "b9209a13",
   "metadata": {},
   "outputs": [
    {
     "data": {
      "text/plain": [
       "14"
      ]
     },
     "execution_count": 1,
     "metadata": {},
     "output_type": "execute_result"
    }
   ],
   "source": [
    "2 * (3 + 4)"
   ]
  },
  {
   "cell_type": "markdown",
   "id": "ed9a325a",
   "metadata": {},
   "source": [
    "Sobald wir eine Division vorliegen haben, die nicht aufgeht, verlassen wir den\n",
    "Bereich der ganzen Zahlen und kommen automatisch zu den Fließkommazahlen. In der\n",
    "Informatik wird eine Fließkommazahl als Float bezeichnet. Python rechnet\n",
    "automatisch mit dem richtigen Datentyp, wie Sie hier sehen:"
   ]
  },
  {
   "cell_type": "code",
   "execution_count": 2,
   "id": "8a78a565",
   "metadata": {},
   "outputs": [
    {
     "data": {
      "text/plain": [
       "0.4"
      ]
     },
     "execution_count": 2,
     "metadata": {},
     "output_type": "execute_result"
    }
   ],
   "source": [
    "2/5"
   ]
  },
  {
   "cell_type": "markdown",
   "id": "9c70a405",
   "metadata": {},
   "source": [
    "Beachten Sie bitte: Das Dezimaltrennzeichen ist ein Punkt, nicht ein Komma wie\n",
    "im Deutschen. Aber ansonsten funktioniert alles wie erwartet:"
   ]
  },
  {
   "cell_type": "code",
   "execution_count": 3,
   "id": "199ada68",
   "metadata": {},
   "outputs": [
    {
     "data": {
      "text/plain": [
       "6.8999999999999995"
      ]
     },
     "execution_count": 3,
     "metadata": {},
     "output_type": "execute_result"
    }
   ],
   "source": [
    "2.3 + 4.6"
   ]
  },
  {
   "cell_type": "code",
   "execution_count": 4,
   "id": "e5363c65",
   "metadata": {},
   "outputs": [
    {
     "data": {
      "text/plain": [
       "-3.8000000000000003"
      ]
     },
     "execution_count": 4,
     "metadata": {},
     "output_type": "execute_result"
    }
   ],
   "source": [
    "1.4 - 5.2"
   ]
  },
  {
   "cell_type": "code",
   "execution_count": 5,
   "id": "44020587",
   "metadata": {},
   "outputs": [
    {
     "data": {
      "text/plain": [
       "-11.78"
      ]
     },
     "execution_count": 5,
     "metadata": {},
     "output_type": "execute_result"
    }
   ],
   "source": [
    "(-3.8) * 3.1"
   ]
  },
  {
   "cell_type": "code",
   "execution_count": 6,
   "id": "bbdc8355",
   "metadata": {},
   "outputs": [
    {
     "data": {
      "text/plain": [
       "8.0"
      ]
     },
     "execution_count": 6,
     "metadata": {},
     "output_type": "execute_result"
    }
   ],
   "source": [
    "2.4 / 0.3"
   ]
  },
  {
   "cell_type": "code",
   "execution_count": 7,
   "id": "8289e4ab",
   "metadata": {},
   "outputs": [
    {
     "data": {
      "text/plain": [
       "9536.7431640625"
      ]
     },
     "execution_count": 7,
     "metadata": {},
     "output_type": "execute_result"
    }
   ],
   "source": [
    "2.5**10"
   ]
  },
  {
   "cell_type": "markdown",
   "id": "36a106b4",
   "metadata": {},
   "source": [
    "Das folgende Video fasst Zahlen in Python zusammen.\n",
    "\n",
    "```{dropdown} Video \"Zahlen in Python\" von Programmieren Starten\n",
    "<iframe width=\"560\" height=\"315\" src=\"https://www.youtube.com/embed/VtiDkRDPA_c\" title=\"YouTube video player\" frameborder=\"0\" allow=\"accelerometer; autoplay; clipboard-write; encrypted-media; gyroscope; picture-in-picture; web-share\" allowfullscreen></iframe>\n",
    "```\n",
    "\n",
    "### Strings\n",
    "\n",
    "Daten sind aber sehr oft keine Zahlen. Beispielsweise könnte man sich\n",
    "vorstellen, eine Einkaufsliste zu erstellen und diese im Computer oder in einer\n",
    "Notiz-App auf dem Handy zu speichern. Eine solche Zeichenkette heißt in der\n",
    "Informatik **String**. Mit Zeichen meint man dabei Zahlen, Buchstaben oder\n",
    "andere wie beispielsweise `!\"§$%&/()=?`.\n",
    "\n",
    "Strings werden in Python durch einfache oder doppelte Anführungszeichen definiert:"
   ]
  },
  {
   "cell_type": "code",
   "execution_count": 8,
   "id": "1b16c34c",
   "metadata": {},
   "outputs": [
    {
     "data": {
      "text/plain": [
       "'Dies ist ein String!'"
      ]
     },
     "execution_count": 8,
     "metadata": {},
     "output_type": "execute_result"
    }
   ],
   "source": [
    "\"Dies ist ein String!\""
   ]
  },
  {
   "cell_type": "markdown",
   "id": "3031c4c8",
   "metadata": {},
   "source": [
    "Strings haben wir bei dem Hallo-Welt-Programm schon kennengelernt. Allerdings\n",
    "haben wir zu diesem Zeitpunkt noch nicht den korrekten Fachbegriff String\n",
    "verwendet, sondern sie als Texte bezeichnet.\n",
    "\n",
    "Auf Strings und ihre Anwendungen kommen wir später noch zurück. Wenn Sie bereits\n",
    "jetzt mehr erfahren wollen, können Sie sich folgendes Video ansehen.\n",
    "\n",
    "```{dropdown} Video \"Strings in Python\" von Programmieren Starten\n",
    "<iframe width=\"560\" height=\"315\" src=\"https://www.youtube.com/embed/sTEf4_mrLvw\" title=\"YouTube video player\" frameborder=\"0\" allow=\"accelerometer; autoplay; clipboard-write; encrypted-media; gyroscope; picture-in-picture; web-share\" allowfullscreen></iframe>\n",
    "```\n",
    "\n",
    "## Datentypen ermitteln mit type()\n",
    "\n",
    "In den bisher betrachteten Beispielen sind die Python-Programme ein bis zwei\n",
    "Zeilen lang. Unwahrscheinlich, dass dann nicht klar ist, welchen Datentyp eine\n",
    "Variable hat. Wenn aber später die Programme länger werden und vielleicht auch\n",
    "Benutzereingaben dazu kommen, kann man auch den Überblick darüber verlieren.\n",
    "Dafür gibt es die **type()**-Funktion."
   ]
  },
  {
   "cell_type": "code",
   "execution_count": 9,
   "id": "09908593",
   "metadata": {},
   "outputs": [
    {
     "name": "stdout",
     "output_type": "stream",
     "text": [
      "<class 'int'>\n",
      "<class 'float'>\n",
      "<class 'str'>\n"
     ]
    }
   ],
   "source": [
    "datentyp_integer = type(3)\n",
    "print(datentyp_integer)\n",
    "\n",
    "datentyp_float = type(3.1)\n",
    "print(datentyp_float)\n",
    "\n",
    "datentyp_string = type('Hallo')\n",
    "print(datentyp_string)"
   ]
  },
  {
   "cell_type": "markdown",
   "id": "946130c1",
   "metadata": {},
   "source": [
    "## Weiteres Lernmaterial\n",
    "\n",
    "Das folgende Video fasst die drei Datentypen Integer, Float uns String\n",
    "übersichtsartig zusammen.\n",
    "\n",
    "```{dropdown} Video \"Datentypen in Python\" von Programmieren Starten\n",
    "<iframe width=\"560\" height=\"315\" src=\"https://www.youtube.com/embed/1WqFJ5wsA4o\"\n",
    "title=\"YouTube video player\" frameborder=\"0\" allow=\"accelerometer; autoplay;\n",
    "clipboard-write; encrypted-media; gyroscope; picture-in-picture; web-share\"\n",
    "allowfullscreen></iframe>\n",
    "```"
   ]
  }
 ],
 "metadata": {
  "jupytext": {
   "cell_metadata_filter": "-all",
   "formats": "ipynb,md:myst",
   "text_representation": {
    "extension": ".md",
    "format_name": "myst",
    "format_version": 0.13,
    "jupytext_version": "1.14.5"
   }
  },
  "kernelspec": {
   "display_name": "Python 3 (ipykernel)",
   "language": "python",
   "name": "python3"
  },
  "language_info": {
   "codemirror_mode": {
    "name": "ipython",
    "version": 3
   },
   "file_extension": ".py",
   "mimetype": "text/x-python",
   "name": "python",
   "nbconvert_exporter": "python",
   "pygments_lexer": "ipython3",
   "version": "3.12.2"
  },
  "source_map": [
   14,
   68,
   70,
   77,
   79,
   84,
   88,
   92,
   96,
   100,
   102,
   120,
   122,
   143,
   152
  ]
 },
 "nbformat": 4,
 "nbformat_minor": 5
}