{
 "cells": [
  {
   "cell_type": "markdown",
   "id": "0e1308e2",
   "metadata": {},
   "source": [
    "# 8.3 OOP in der Praxis\n",
    "\n",
    "```{admonition} Hinweise zur Vorlesung Objektorientierte Programmierung im WiSe 2025/26\n",
    ":class: warning\n",
    "Dieses Vorlesungsskript wird gerade umgebaut.\n",
    "```\n",
    "\n",
    "Mit Klassen, Objekten und Methoden haben wir die Grundlagen der objektorientierten Programmierung kennengelernt. In diesem Kapitel schauen wir uns an, wie wir diese Konzepte in der Praxis anwenden: Wir verwalten mehrere Objekte in Listen und sorgen dafür, dass unsere Objekte sich schön ausgeben lassen.\n",
    "\n",
    "## Lernziele\n",
    "\n",
    "```{admonition} Lernziele\n",
    ":class: goals\n",
    "* Sie können Objekte in Listen speichern und verwalten.\n",
    "* Sie können Listen von Objekten durchlaufen und durchsuchen.\n",
    "* Sie verstehen die `__str__`-Methode und können sie implementieren.\n",
    "* Sie können ein vollständiges objektorientiertes Programm zur Datenverwaltung erstellen.\n",
    "* Sie verstehen, wie OOP bei der Lösung praktischer Probleme hilft.\n",
    "```\n",
    "\n",
    "## Konzept\n",
    "\n",
    "TODO: Einleitungstext über die Bedeutung von Listen von Objekten in der Praxis. Beispiel aus dem Alltag (Kursverwaltung an der Hochschule). Überleitung zu den drei Hauptthemen des Kapitels.\n",
    "\n",
    "```{dropdown} Video zu \"Listen von Objekten\" von Programmieren lernen\n",
    "TODO: Passendes Video suchen oder eigenes erstellen\n",
    "```\n",
    "\n",
    "## Listen von Objekten verwalten\n",
    "\n",
    "TODO: Erklärender Text über die Notwendigkeit, mehrere Objekte zu verwalten. Vergleich zu bisherigen Ansätzen (viele einzelne Variablen vs. Listen von Objekten).\n",
    "\n",
    "### Objekte in Listen speichern\n",
    "\n",
    "TODO: Grundlegendes Beispiel - mehrere Student-Objekte in einer Liste erstellen."
   ]
  },
  {
   "cell_type": "code",
   "execution_count": 1,
   "id": "ac1a5e55",
   "metadata": {},
   "outputs": [
    {
     "name": "stdout",
     "output_type": "stream",
     "text": [
      "Anzahl Studierende: 3\n"
     ]
    }
   ],
   "source": [
    "# TODO: Code-Beispiel für das Erstellen einer Liste mit mehreren Student-Objekten\n",
    "class Student:\n",
    "    def __init__(self, nachname, vorname, studiengang, semester, matrikelnummer):\n",
    "        self.nachname = nachname\n",
    "        self.vorname = vorname\n",
    "        self.studiengang = studiengang\n",
    "        self.semester = semester\n",
    "        self.matrikelnummer = matrikelnummer\n",
    "\n",
    "# Liste mit mehreren Studierenden erstellen\n",
    "studierende = [\n",
    "    Student(\"Abendrot\", \"Anna\", \"Maschinenbau\", 3, \"12345678\"),\n",
    "    Student(\"Berliner\", \"Bob\", \"Maschinenbau\", 5, \"87654321\"),\n",
    "    Student(\"Colorado\", \"Charlie\", \"Elektrotechnik\", 2, \"11223344\")\n",
    "]\n",
    "\n",
    "print(f\"Anzahl Studierende: {len(studierende)}\")"
   ]
  },
  {
   "cell_type": "markdown",
   "id": "76e925f7",
   "metadata": {},
   "source": [
    "### Listen von Objekten durchlaufen\n",
    "\n",
    "TODO: Erklärung, wie man mit for-Schleifen über Listen von Objekten iteriert."
   ]
  },
  {
   "cell_type": "code",
   "execution_count": 2,
   "id": "693001c2",
   "metadata": {},
   "outputs": [],
   "source": [
    "# TODO: Code-Beispiel für das Durchlaufen einer Liste von Objekten mit for-Schleife"
   ]
  },
  {
   "cell_type": "markdown",
   "id": "6b562f08",
   "metadata": {},
   "source": [
    "### Objekte in Listen suchen und filtern\n",
    "\n",
    "TODO: Praktische Beispiele für das Suchen nach bestimmten Objekten in Listen."
   ]
  },
  {
   "cell_type": "code",
   "execution_count": 3,
   "id": "4aa7cb22",
   "metadata": {},
   "outputs": [],
   "source": [
    "# TODO: Code-Beispiele für:\n",
    "# - Suche nach Student mit bestimmtem Namen\n",
    "# - Filtern nach Studiengang\n",
    "# - Filtern nach Semester"
   ]
  },
  {
   "cell_type": "markdown",
   "id": "a8170d27",
   "metadata": {},
   "source": [
    "```{admonition} Mini-Übung\n",
    ":class: miniexercise\n",
    "TODO: Übung zum Filtern von Objektlisten - z.B. \"Finden Sie alle Studierenden im 1. Semester\"\n",
    "```"
   ]
  },
  {
   "cell_type": "code",
   "execution_count": 4,
   "id": "a5e9ac08",
   "metadata": {},
   "outputs": [],
   "source": [
    "# Geben Sie nach diesem Kommentar Ihren Code ein:\n"
   ]
  },
  {
   "cell_type": "markdown",
   "id": "87db3f46",
   "metadata": {},
   "source": [
    "````{admonition} Lösung\n",
    ":class: miniexercise, toggle\n",
    "```python\n",
    "# TODO: Musterlösung für die Mini-Übung\n",
    "```\n",
    "TODO: Erklärung der Lösung\n",
    "````\n",
    "\n",
    "## Die __str__-Methode für schöne Ausgabe\n",
    "\n",
    "TODO: Problemstellung - was passiert, wenn wir `print(objekt)` ohne `__str__`\n",
    "aufrufen? Kryptische Ausgabe zeigen.\n",
    "\n",
    "### Das Problem: Kryptische Objektausgabe"
   ]
  },
  {
   "cell_type": "code",
   "execution_count": 5,
   "id": "32905568",
   "metadata": {},
   "outputs": [],
   "source": [
    "# TODO: Beispiel zeigen, wie Objekte ohne __str__ ausgegeben werden"
   ]
  },
  {
   "cell_type": "markdown",
   "id": "57bc800c",
   "metadata": {},
   "source": [
    "### Die Lösung: Die __str__-Methode implementieren\n",
    "\n",
    "TODO: Erklärung, was `__str__` ist und warum Python diese Methode automatisch aufruft."
   ]
  },
  {
   "cell_type": "code",
   "execution_count": 6,
   "id": "09bd9f41",
   "metadata": {},
   "outputs": [],
   "source": [
    "# TODO: Student-Klasse um __str__-Methode erweitern"
   ]
  },
  {
   "cell_type": "markdown",
   "id": "b368b938",
   "metadata": {},
   "source": [
    "### Vergleich: mit und ohne __str__\n",
    "\n",
    "TODO: Direkter Vergleich der Ausgabe mit und ohne `__str__`-Methode."
   ]
  },
  {
   "cell_type": "code",
   "execution_count": 7,
   "id": "24af50f5",
   "metadata": {},
   "outputs": [],
   "source": [
    "# TODO: Code-Beispiel, das den Unterschied deutlich macht"
   ]
  },
  {
   "cell_type": "markdown",
   "id": "73458de8",
   "metadata": {},
   "source": [
    "### Best Practices für benutzerfreundliche Ausgabe\n",
    "\n",
    "TODO: Richtlinien für gute `__str__`-Implementierungen (kurz, informativ, lesbar).\n",
    "\n",
    "```{admonition} Mini-Übung\n",
    ":class: miniexercise\n",
    "TODO: Übung zur Implementierung einer `__str__`-Methode\n",
    "```"
   ]
  },
  {
   "cell_type": "code",
   "execution_count": 8,
   "id": "e5f6f499",
   "metadata": {},
   "outputs": [],
   "source": [
    "# Geben Sie nach diesem Kommentar Ihren Code ein:\n"
   ]
  },
  {
   "cell_type": "markdown",
   "id": "5306da2b",
   "metadata": {},
   "source": [
    "````{admonition} Lösung\n",
    ":class: miniexercise, toggle\n",
    "```python\n",
    "# TODO: Musterlösung\n",
    "```\n",
    "TODO: Erklärung\n",
    "````\n",
    "\n",
    "## Ein vollständiges Beispiel: Kursverwaltung\n",
    "\n",
    "TODO: Zusammenführung aller gelernten Konzepte in einem praktischen Beispiel.\n",
    "\n",
    "### Die vollständige Student-Klasse"
   ]
  },
  {
   "cell_type": "code",
   "execution_count": 9,
   "id": "a387470f",
   "metadata": {},
   "outputs": [],
   "source": [
    "# TODO: Komplette Student-Klasse mit allen bisher gelernten Methoden und __str__"
   ]
  },
  {
   "cell_type": "markdown",
   "id": "cb9a9567",
   "metadata": {},
   "source": [
    "### Kursverwaltung implementieren\n",
    "\n",
    "TODO: Praktische Funktionen für eine einfache Kursverwaltung."
   ]
  },
  {
   "cell_type": "code",
   "execution_count": 10,
   "id": "094c5814",
   "metadata": {},
   "outputs": [],
   "source": [
    "# TODO: Code für:\n",
    "# - Studierende hinzufügen\n",
    "# - Studierende anzeigen\n",
    "# - Nach Studiengang filtern\n",
    "# - Statistiken erstellen (Anzahl pro Semester, etc.)"
   ]
  },
  {
   "cell_type": "markdown",
   "id": "a750b2b6",
   "metadata": {},
   "source": [
    "### Praktische Operationen\n",
    "\n",
    "TODO: Beispiele für typische Verwaltungsaufgaben."
   ]
  },
  {
   "cell_type": "code",
   "execution_count": 11,
   "id": "e803e3ea",
   "metadata": {},
   "outputs": [],
   "source": [
    "# TODO: Beispiele für:\n",
    "# - Alle Studierenden eines Studiengangs anzeigen\n",
    "# - Durchschnittliches Semester berechnen\n",
    "# - Studierende nach Namen sortieren"
   ]
  },
  {
   "cell_type": "markdown",
   "id": "43a70274",
   "metadata": {},
   "source": [
    "## Zusammenfassung und Ausblick\n",
    "\n",
    "TODO\n",
    "\n",
    "* Listen von Objekten sind ein mächtiges Werkzeug zur Datenverwaltung\n",
    "* Die `__str__`-Methode macht Objekte benutzerfreundlich\n",
    "* OOP hilft dabei, komplexe Datenstrukturen übersichtlich zu verwalten\n",
    "* Diese Konzepte sind die Grundlage für viele Data Science-Werkzeuge\n",
    "\n",
    "```{dropdown} Video zu \"Klassen und Objekte\" von Programmieren lernen\n",
    "<iframe width=\"560\" height=\"315\" src=\"https://www.youtube.com/embed/XxCZrT7Z3G4\" \n",
    "title=\"YouTube video player\" frameborder=\"0\" allow=\"accelerometer; autoplay; \n",
    "clipboard-write; encrypted-media; gyroscope; picture-in-picture\" allowfullscreen>\n",
    "</iframe>\n",
    "```\n",
    "\n",
    "```{dropdown} Video zu \"Der self Parameter\" von Programmieren lernen\n",
    "<iframe width=\"560\" height=\"315\" src=\"https://www.youtube.com/embed/CLoK-_qNTnU\" \n",
    "title=\"YouTube video player\" frameborder=\"0\" allow=\"accelerometer; autoplay; \n",
    "clipboard-write; encrypted-media; gyroscope; picture-in-picture\" allowfullscreen>\n",
    "</iframe>\n",
    "```\n",
    "\n",
    "```{dropdown} Video zu \"Methoden in Klassen\" von Programmieren lernen\n",
    "<iframe width=\"560\" height=\"315\" src=\"https://www.youtube.com/embed/58IjjwHs_4A\" \n",
    "title=\"YouTube video player\" frameborder=\"0\" allow=\"accelerometer; autoplay; \n",
    "clipboard-write; encrypted-media; gyroscope; picture-in-picture\" allowfullscreen>\n",
    "</iframe>\n",
    "```"
   ]
  }
 ],
 "metadata": {
  "jupytext": {
   "formats": "ipynb,md:myst",
   "text_representation": {
    "extension": ".md",
    "format_name": "myst",
    "format_version": 0.13,
    "jupytext_version": "1.13.8"
   }
  },
  "kernelspec": {
   "display_name": "Python 3 (ipykernel)",
   "language": "python",
   "name": "python3"
  },
  "language_info": {
   "codemirror_mode": {
    "name": "ipython",
    "version": 3
   },
   "file_extension": ".py",
   "mimetype": "text/x-python",
   "name": "python",
   "nbconvert_exporter": "python",
   "pygments_lexer": "ipython3",
   "version": "3.12.2"
  },
  "source_map": [
   13,
   51,
   69,
   75,
   77,
   83,
   88,
   95,
   98,
   115,
   117,
   123,
   125,
   131,
   133,
   144,
   147,
   163,
   165,
   171,
   177,
   183,
   188
  ]
 },
 "nbformat": 4,
 "nbformat_minor": 5
}