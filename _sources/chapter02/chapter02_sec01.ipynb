{
 "cells": [
  {
   "cell_type": "markdown",
   "id": "9967179e",
   "metadata": {},
   "source": [
    "# 2.1 Variablen und Zuweisungen\n",
    "\n",
    "```{admonition} Hinweise zur Vorlesung Objektorientierte Programmierung im WiSe 2025/26\n",
    ":class: warning\n",
    "Dieses Vorlesungsskript wird gerade umgebaut.\n",
    "```\n",
    "\n",
    "Ein Klassiker beim Erlernen einer neuen Programmiersprache ist das\n",
    "Hallo-Welt-Programm. Dabei geht es darum, den Text \"Hallo Welt\" auf dem\n",
    "Bildschirm anzeigen zu lassen. Klingt simpel, aber je nach Programmiersprache\n",
    "kann auch diese einfache Aufgabe einen hohen Aufwand bedeuten. Bevor wir das\n",
    "Hallo-Welt-Programm programmieren, nutzen wir erst Python als Taschenrechner, um\n",
    "auch den Umgang mit dem Jupyter Notebook noch weiter zu festigen.\n",
    "\n",
    "## Lernziele\n",
    "\n",
    "```{admonition} Lernziele\n",
    ":class: goals\n",
    "* Sie kennen die grundlegenden Rechenoperationen in Python.\n",
    "* Sie wissen, was ein **Kommentar** ist.\n",
    "* Sie können in Python einen Kommentar mit **#** schreiben.\n",
    "* Sie können mit **print** das Ergebnis einer Rechnung anzeigen lassen.\n",
    "* Sie wissen, dass Texte mit einfachen `'` oder doppelten `\"` Anführungszeichen\n",
    "  zu Beginn des Textes und zum Ende begrenzt werden. \n",
    "```"
   ]
  }
 ],
 "metadata": {
  "jupytext": {
   "cell_metadata_filter": "-all",
   "formats": "ipynb,md:myst",
   "text_representation": {
    "extension": ".md",
    "format_name": "myst",
    "format_version": 0.13,
    "jupytext_version": "1.14.5"
   }
  },
  "kernelspec": {
   "display_name": "Python 3 (ipykernel)",
   "language": "python",
   "name": "python3"
  },
  "source_map": [
   14
  ]
 },
 "nbformat": 4,
 "nbformat_minor": 5
}