{
 "cells": [
  {
   "cell_type": "markdown",
   "id": "e1a31e51",
   "metadata": {},
   "source": [
    "# 1.3 Jupyter Notebooks und Python als Taschenrechner\n",
    "\n",
    "In dieser Vorlesung werden wir das Python-Programmieren mit Hilfe von Jupyter\n",
    "Notebooks lernen. Daher klären wir zunächst, was Jupyter Notebooks sind, und\n",
    "verwenden anschließend Python als Taschenrechner. Ergebnisse von einfachen\n",
    "Rechnungen lassen wir uns mit der `print()`-Funktion anzeigen.\n",
    "\n",
    "## Lernziele\n",
    "\n",
    "```{admonition} Lernziele\n",
    ":class: goals\n",
    "* Sie wissen, was ein **Jupyter Notebook** ist.\n",
    "* Sie können Python als Taschenrechner benutzen.\n",
    "* Sie können Ergebnisse von Rechnungen mit **print()** anzeigen.\n",
    "* Sie wissen, was ein **Argument** einer Anweisung ist.\n",
    "```\n",
    "\n",
    "## Was sind Jupyter Notebooks?\n",
    "\n",
    "Jupyter Notebooks führen Text, Python-Code, Bilder und Videos in einem einzigen\n",
    "interaktiven digitalen Notizbuch zusammen. Sie gehören zu den bekanntesten\n",
    "Anwendungen in der Programmierung und werden häufig für Datenanalyse,\n",
    "maschinelles Lernen, Simulationen und Visualisierungen eingesetzt.\n",
    "\n",
    "Ein Jupyter Notebook besteht aus einer Abfolge von Zellen, in denen Text,\n",
    "Code oder Grafiken eingebettet werden. Die Zellen können entweder in Python oder\n",
    "in anderen Programmiersprachen wie R, Julia oder JavaScript geschrieben sein.\n",
    "Erkennbar sind Jupyter Notebooks an der Dateiendung `.ipynb`.\n",
    "\n",
    "Die Kombination von Text, Code und Visualisierungen macht Jupyter Notebooks zu\n",
    "einem besonders geeigneten Werkzeug für das Programmierenlernen: Konzepte\n",
    "werden im Text erläutert und können direkt in Code-Zellen ausprobiert werden.\n",
    "\n",
    "```{figure} pics/fig_chap00_sec03_zellen.png\n",
    ":name: fig_chap00_sec03_zellen\n",
    "\n",
    "Screenshot eines Jupyter Notebooks mit Text, Python-Code und Ergebnisse des\n",
    "ausgeführten Python-Codes, das mit der klassischen Software \"Jupyter Notebook\"\n",
    "geladen wurde\n",
    "```\n",
    "\n",
    "Eine Zelle kann entweder eine Text-Zelle (siehe Screenshot, Schritt 1) oder eine\n",
    "Code-Zelle (siehe Screenshot, Schritt 2) sein. In Text-Zellen wird die\n",
    "[Markdown-Formatierung](https://jupyter-notebook.readthedocs.io/en/stable/examples/Notebook/Working%20With%20Markdown%20Cells.html)\n",
    "verwendet. Um ein Wort fettgedruckt anzuzeigen, schreibt man zum Beispiel\n",
    "`**fett**`, was als fett dargestellt wird. In Code-Zellen (siehe Screenshot,\n",
    "Schritt 2 oder 3) können Sie direkt Python-Code eingeben. Eine Code-Zelle wird\n",
    "ausgeführt, indem Sie auf \"Run\" klicken (siehe Screenshot, Schritt 4). Danach\n",
    "erscheint die Ausgabe, die der Python-Interpreter ggf. erzeugt (siehe\n",
    "Screenshot, Schritt 5). Ergebnisse werden mit \"Out\" gekennzeichnet.\n",
    "\n",
    "## Python als Taschenrechner\n",
    "\n",
    "Bevor wir in die Programmierung einsteigen, benutzen wir Python erst einmal als\n",
    "Taschenrechner. Im Folgenden sehen Sie, wie die Grundrechenarten in Python\n",
    "verwendet werden:\n",
    "\n",
    "Addition:"
   ]
  },
  {
   "cell_type": "code",
   "execution_count": 1,
   "id": "9343e5f4",
   "metadata": {},
   "outputs": [
    {
     "data": {
      "text/plain": [
       "5"
      ]
     },
     "execution_count": 1,
     "metadata": {},
     "output_type": "execute_result"
    }
   ],
   "source": [
    "2+3"
   ]
  },
  {
   "cell_type": "markdown",
   "id": "98e2c519",
   "metadata": {},
   "source": [
    "Subtraktion:"
   ]
  },
  {
   "cell_type": "code",
   "execution_count": 2,
   "id": "57c54e86",
   "metadata": {},
   "outputs": [
    {
     "data": {
      "text/plain": [
       "-1"
      ]
     },
     "execution_count": 2,
     "metadata": {},
     "output_type": "execute_result"
    }
   ],
   "source": [
    "2-3"
   ]
  },
  {
   "cell_type": "markdown",
   "id": "01be2dd2",
   "metadata": {},
   "source": [
    "Multiplikation:"
   ]
  },
  {
   "cell_type": "code",
   "execution_count": 3,
   "id": "9104e863",
   "metadata": {},
   "outputs": [
    {
     "data": {
      "text/plain": [
       "8"
      ]
     },
     "execution_count": 3,
     "metadata": {},
     "output_type": "execute_result"
    }
   ],
   "source": [
    "2*4"
   ]
  },
  {
   "cell_type": "markdown",
   "id": "edb4251e",
   "metadata": {},
   "source": [
    "Division:"
   ]
  },
  {
   "cell_type": "code",
   "execution_count": 4,
   "id": "44e62534",
   "metadata": {},
   "outputs": [
    {
     "data": {
      "text/plain": [
       "4.0"
      ]
     },
     "execution_count": 4,
     "metadata": {},
     "output_type": "execute_result"
    }
   ],
   "source": [
    "8/2"
   ]
  },
  {
   "cell_type": "markdown",
   "id": "55aaa985",
   "metadata": {},
   "source": [
    "Potenzierung:"
   ]
  },
  {
   "cell_type": "code",
   "execution_count": 5,
   "id": "5577390b",
   "metadata": {},
   "outputs": [
    {
     "data": {
      "text/plain": [
       "9"
      ]
     },
     "execution_count": 5,
     "metadata": {},
     "output_type": "execute_result"
    }
   ],
   "source": [
    "3**2"
   ]
  },
  {
   "cell_type": "markdown",
   "id": "60b0bd2f",
   "metadata": {},
   "source": [
    "Sie können die obigen Code-Zellen verändern, zum Beispiel `2 + 3` in `2 + 5`\n",
    "ändern. So lernen Sie den Umgang mit Python-Anweisungen kennen.\n",
    "\n",
    "Wenn Sie dieses Skript als interaktives Jupyter Notebook öffnen, können Sie\n",
    "direkt in die Zellen klicken und den Code ändern. Falls Sie das Skript online\n",
    "lesen, klicken Sie bitte auf das Raketensymbol oben rechts und wählen „Live\n",
    "Code“, um interaktive Zellen zu aktivieren. Beim ersten Start kann dies etwas\n",
    "dauern.\n",
    "\n",
    "Um Übungen zu ermöglichen, enthalten manche Zellen nur einen Kommentar als\n",
    "Platzhalter:"
   ]
  },
  {
   "cell_type": "code",
   "execution_count": 6,
   "id": "56c690d1",
   "metadata": {},
   "outputs": [],
   "source": [
    "# Geben Sie nach diesem Kommentar Ihren Code ein:"
   ]
  },
  {
   "cell_type": "markdown",
   "id": "0b80633e",
   "metadata": {},
   "source": [
    "Alles was nach dem Hashtag # steht, ist ein **Kommentar**. Kommentare werden von\n",
    "Python ignoriert und sind nur für uns Menschen gedacht.\n",
    "\n",
    "Selbstverständlich beherrscht Python auch Klammerregeln. Probieren Sie es aus!\n",
    "\n",
    "```{admonition} Mini-Übung\n",
    ":class: miniexercise\n",
    "Lassen Sie Python den Term $3\\cdot (7-10)+5$ berechnen. \n",
    "```"
   ]
  },
  {
   "cell_type": "code",
   "execution_count": 7,
   "id": "802bd7a7",
   "metadata": {},
   "outputs": [],
   "source": [
    "# Geben Sie nach diesem Kommentar Ihren Code ein:"
   ]
  },
  {
   "cell_type": "markdown",
   "id": "06bdebc2",
   "metadata": {},
   "source": [
    "````{admonition} Lösung\n",
    ":class: miniexercise, toggle\n",
    "```python\n",
    "3 * (7-10) + 5\n",
    "```\n",
    "````\n",
    "\n",
    "## Ausgaben mit print\n",
    "\n",
    "Bei den obigen Rechenaufgaben wurde automatisch das Ergebnis der Rechnung\n",
    "angezeigt, sobald die Code-Zelle ausgeführt wurde. Dies ist eine Besonderheit\n",
    "der Jupyter Notebooks. In einem normalen Python-Programm würde das nicht\n",
    "funktionieren. Die interaktive Ausgabe der Jupyter Notebooks zeigt außerdem\n",
    "immer nur das Ergebnis der letzten Zeile an.\n",
    "\n",
    "Um beliebige Ergebnisse oder Texte gezielt auszugeben, gibt es die\n",
    "**print()-Funktion**."
   ]
  },
  {
   "cell_type": "code",
   "execution_count": 8,
   "id": "2e663472",
   "metadata": {},
   "outputs": [
    {
     "name": "stdout",
     "output_type": "stream",
     "text": [
      "2\n",
      "6\n"
     ]
    }
   ],
   "source": [
    "print(2)\n",
    "print(3+3)"
   ]
  },
  {
   "cell_type": "markdown",
   "id": "b3d59b67",
   "metadata": {},
   "source": [
    "Das **Argument** wird in runde Klammern hinter den Funktionsnamen `print`\n",
    "geschrieben. Ein Argument ist sozusagen der Input, der an die Funktion übergeben\n",
    "wird, damit Python weiß, welcher Wert auf dem Bildschirm angezeigt werden soll.\n",
    "\n",
    "Das zweite Beispiel in der zweiten Zeile funktioniert genauso. Nur wird diesmal\n",
    "eine komplette Rechnung als Argument an die `print()`-Funktion übergeben. In dem\n",
    "Fall rechnet der Python-Interpreter erst den Wert der Rechnung, also `3+3=6` aus\n",
    "und übergibt dann die `6` an die `print()`-Funktion. Die `print()`-Funktion\n",
    "wiederum zeigt dann die `6` am Bildschirm an.\n",
    "\n",
    "Insgesamt zeigt daher der Python-Interpreter erst eine 2 und dann in der\n",
    "nächsten Zeile eine 6 an.\n",
    "\n",
    "```{admonition} Mini-Übung\n",
    ":class: miniexercise\n",
    "Lassen Sie Python den Term $3:4$ berechnen und geben Sie das Ergebnis mit der\n",
    "print()-Funktion aus.\n",
    "```"
   ]
  },
  {
   "cell_type": "code",
   "execution_count": 9,
   "id": "bae11409",
   "metadata": {},
   "outputs": [],
   "source": [
    "# Geben Sie nach diesem Kommentar Ihren Code ein:"
   ]
  },
  {
   "cell_type": "markdown",
   "id": "7bef816c",
   "metadata": {},
   "source": [
    "````{admonition} Lösung\n",
    ":class: miniexercise, toggle\n",
    "```python\n",
    "print(3/4)\n",
    "```\n",
    "Achtung: In Python wird für die Division `/` verwendet, nicht `:`. Das ist ein\n",
    "häufiger Fehler.\n",
    "````\n",
    "\n",
    "Python kann mit der `print()`-Funktion jedoch nicht nur Zahlen ausgeben, sondern\n",
    "auch Texte. Ein erster Versuch, einfach den Text als Argument der\n",
    "`print()`-Funktion zu übergeben, scheitert leider, wie das nächste Beispiel zeigt.\n",
    "Entfernen Sie dazu das Kommentarzeichen `#`:"
   ]
  },
  {
   "cell_type": "code",
   "execution_count": 10,
   "id": "7ae59739",
   "metadata": {},
   "outputs": [],
   "source": [
    "# print(Hallo)"
   ]
  },
  {
   "cell_type": "markdown",
   "id": "ee74c6a5",
   "metadata": {},
   "source": [
    "Es erscheint eine Fehlermeldung mit dem Fehler: `NameError: name 'Hallo' is not\n",
    "defined`. Der Grund hierfür ist, dass der Python-Interpreter versucht, eine\n",
    "sogenannte Variable oder eine Python-Anweisung mit dem Namen `Hallo` zu finden.\n",
    "Da es aber keines von beiden gibt, kommt die Fehlermeldung, dass `Hallo` nicht\n",
    "definiert wurde. Um den Text ausgeben zu lassen, werden um den Text einfache\n",
    "oder doppelte Anführungszeichen gesetzt, wie in dem folgenden Beispiel."
   ]
  },
  {
   "cell_type": "code",
   "execution_count": 11,
   "id": "7b3cafee",
   "metadata": {},
   "outputs": [
    {
     "name": "stdout",
     "output_type": "stream",
     "text": [
      "Hallo\n"
     ]
    }
   ],
   "source": [
    "print('Hallo')"
   ]
  },
  {
   "cell_type": "markdown",
   "id": "f13efa52",
   "metadata": {},
   "source": [
    "```{admonition} Mini-Übung\n",
    ":class: miniexercise\n",
    "Probieren Sie aus was passiert, wenn Sie die einfachen Anführungszeichen `'`\n",
    "durch doppelte Anführungszeichen `\"` ersetzen. Lassen Sie den Text Hallo Welt\n",
    "ausgeben.\n",
    "```"
   ]
  },
  {
   "cell_type": "code",
   "execution_count": 12,
   "id": "bb124ed1",
   "metadata": {},
   "outputs": [],
   "source": [
    "# Geben Sie nach diesem Kommentar Ihren Code ein:"
   ]
  },
  {
   "cell_type": "markdown",
   "id": "6d9e187a",
   "metadata": {},
   "source": [
    "````{admonition} Lösung\n",
    ":class: miniexercise, toggle\n",
    "```python\n",
    "print(\"Hallo Welt\")\n",
    "```\n",
    "````\n",
    "\n",
    "In Python sind sowohl einfache als auch doppelte Anführungszeichen erlaubt.\n",
    "Wenn ein Apostroph im Text vorkommt, sollten Sie doppelte Anführungszeichen\n",
    "verwenden.\n",
    "\n",
    "Die `print()`-Funktion kann noch viel mehr, als wir in dieser Einführung\n",
    "gesehen haben. Wir werden in einem späteren Kapitel im Zusammenhang mit den\n",
    "sogenannten f-Strings nochmal darauf zurückkommen.\n",
    "\n",
    "Hinweis: Das folgende Video nutzt eine andere Entwicklungsumgebung (PyCharm) als\n",
    "wir in dieser Vorlesung (Jupyter Notebooks). Die grundlegenden Python-Befehle\n",
    "sind jedoch identisch. Fokussieren Sie sich ab Minute 9 auf die Python-Syntax,\n",
    "nicht auf die Bedienung der Software.\n",
    "\n",
    "```{dropdown} Video \"Dein erstes Python-Programm\" von Programmieren Starten\n",
    "<iframe width=\"560\" height=\"315\" src=\"https://www.youtube.com/embed/oxXAb8IikHM\"\n",
    "title=\"YouTube video player\" frameborder=\"0\" allow=\"accelerometer; autoplay;\n",
    "clipboard-write; encrypted-media; gyroscope; picture-in-picture; web-share\"\n",
    "allowfullscreen></iframe>\n",
    "```\n",
    "\n",
    "## Zusammenfassung und Ausblick\n",
    "\n",
    "In diesem Kapitel haben wir Jupyter Notebooks kennengelernt, Python als\n",
    "Taschenrechner genutzt und die erste Python-Anweisung `print()` eingesetzt. Im\n",
    "nächsten Kapitel geht es um das Speichern von Daten und deren Verwaltung."
   ]
  }
 ],
 "metadata": {
  "jupytext": {
   "cell_metadata_filter": "-all",
   "formats": "ipynb,md:myst",
   "main_language": "python",
   "text_representation": {
    "extension": ".md",
    "format_name": "myst",
    "format_version": 0.13,
    "jupytext_version": "1.14.5"
   }
  },
  "kernelspec": {
   "display_name": "Python 3 (ipykernel)",
   "language": "python",
   "name": "python3"
  },
  "language_info": {
   "codemirror_mode": {
    "name": "ipython",
    "version": 3
   },
   "file_extension": ".py",
   "mimetype": "text/x-python",
   "name": "python",
   "nbconvert_exporter": "python",
   "pygments_lexer": "ipython3",
   "version": "3.12.2"
  },
  "source_map": [
   15,
   76,
   78,
   82,
   84,
   88,
   90,
   94,
   96,
   100,
   102,
   116,
   118,
   130,
   132,
   152,
   155,
   176,
   178,
   194,
   196,
   205,
   207,
   216,
   218
  ]
 },
 "nbformat": 4,
 "nbformat_minor": 5
}