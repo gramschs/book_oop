{
 "cells": [
  {
   "cell_type": "markdown",
   "id": "7e12c535",
   "metadata": {},
   "source": [
    "# 1. Grundlagen und erste Schritte\n",
    "\n",
    "```{admonition} Hinweise zur Vorlesung Objektorientierte Programmierung im WiSe 2025/26\n",
    ":class: warning\n",
    "Dieses Vorlesungsskript wird gerade umgebaut.\n",
    "```\n",
    "\n",
    "Das Kapitel »Getting Started« gibt Ihnen zuerst eine Einführung in Hardware und\n",
    "Software. Danach werden grundlegende Begriffe zum Programmieren erläutert. Im\n",
    "dritten Abschnitt folgt eine kurze Anleitung, wie Python installiert wird, und\n",
    "wie Jupyter Notebooks aufgebaut sind."
   ]
  }
 ],
 "metadata": {
  "jupytext": {
   "cell_metadata_filter": "-all",
   "formats": "ipynb,md:myst",
   "main_language": "python",
   "text_representation": {
    "extension": ".md",
    "format_name": "myst",
    "format_version": 0.13,
    "jupytext_version": "1.14.5"
   }
  },
  "kernelspec": {
   "display_name": "Python 3 (ipykernel)",
   "language": "python",
   "name": "python3"
  },
  "source_map": [
   15
  ]
 },
 "nbformat": 4,
 "nbformat_minor": 5
}