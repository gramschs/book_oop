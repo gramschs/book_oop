{
 "cells": [
  {
   "cell_type": "markdown",
   "id": "67c5daa2",
   "metadata": {},
   "source": [
    "# 2.1 Variablen und Zuweisungen\n",
    "\n",
    "```{admonition} Hinweise zur Vorlesung Objektorientierte Programmierung im WiSe 2025/26\n",
    ":class: warning\n",
    "Dieses Vorlesungsskript wird gerade umgebaut.\n",
    "```\n",
    "\n",
    "Ein Klassiker beim Erlernen einer neuen Programmiersprache ist das\n",
    "Hallo-Welt-Programm. Dabei geht es darum, den Text \"Hallo Welt\" auf dem\n",
    "Bildschirm anzeigen zu lassen. Klingt simpel, aber je nach Programmiersprache\n",
    "kann auch diese einfache Aufgabe einen hohen Aufwand bedeuten. Bevor wir das\n",
    "Hallo-Welt-Programm programmieren, nutzen wir erst Python als Taschenrechner, um\n",
    "auch den Umgang mit dem Jupyter Notebook noch weiter zu festigen.\n",
    "\n",
    "## Lernziele\n",
    "\n",
    "```{admonition} Lernziele\n",
    ":class: goals\n",
    "* Sie wissen, was eine **Variable** ist und wie sie erzeugt und gefüllt wird.\n",
    "```\n",
    "\n",
    "## Variablen\n",
    "\n",
    "**Variablen** sind beschriftete Schubladen. Oder anders formuliert sind\n",
    "Variablen Objekte, denen man einen Namen gibt. Technisch gesehen sind diese\n",
    "Schubladen ein kleiner Bereich im Arbeitsspeicher des Computers. Was in diesen\n",
    "Schubladen aufbewahrt wird, kann sehr unterschiedlich sein. Beispielsweise die\n",
    "Telefonnummer des ADAC-Pannendienstes, die 10. Nachkommastelle von $\\pi$ oder die\n",
    "aktuelle Position des Mauszeigers können in den Schubladen enthalten sein.\n",
    "\n",
    "Wir verwenden Variablen, um bestimmte Werte oder ein bestimmtes Objekt zu\n",
    "speichern. Eine Variable wird durch **Zuweisung** erzeugt. Damit meinen wir,\n",
    "dass eine Schublade angelegt wird und die Schublade dann erstmalig gefüllt wird.\n",
    "Das erstmalige Füllen der Schublade nennt man in der Informatik auch\n",
    "**Initialisieren**."
   ]
  },
  {
   "cell_type": "code",
   "execution_count": 1,
   "id": "83eb75f4",
   "metadata": {},
   "outputs": [],
   "source": [
    "x = 0.5"
   ]
  },
  {
   "cell_type": "markdown",
   "id": "8b2ca1b1",
   "metadata": {},
   "source": [
    "Sobald die Variable x in diesem Beispiel durch eine Zuweisung von 0.5 erstellt\n",
    "wurde, können wir sie verwenden:"
   ]
  },
  {
   "cell_type": "code",
   "execution_count": 2,
   "id": "c449baa3",
   "metadata": {},
   "outputs": [
    {
     "data": {
      "text/plain": [
       "1.5"
      ]
     },
     "execution_count": 2,
     "metadata": {},
     "output_type": "execute_result"
    }
   ],
   "source": [
    "x * 3"
   ]
  },
  {
   "cell_type": "code",
   "execution_count": 3,
   "id": "762ce190",
   "metadata": {},
   "outputs": [
    {
     "data": {
      "text/plain": [
       "18.3"
      ]
     },
     "execution_count": 3,
     "metadata": {},
     "output_type": "execute_result"
    }
   ],
   "source": [
    "x + 17.8"
   ]
  },
  {
   "cell_type": "markdown",
   "id": "f64a51a3",
   "metadata": {},
   "source": [
    "Variablen müssen initialisiert (erstmalig mit einem Wert versehen) werden, bevor\n",
    "sie verwendet werden können, sonst tritt ein Fehler auf.\n",
    "\n",
    "```{admonition} Mini-Übung\n",
    ":class: miniexercise\n",
    "Schreiben Sie in die nächste Code-Zelle einfach den Buchstaben `n` unter die Kommentarzeile und lassen Sie dann die Code-Zelle mit `run` vom Python-Interpreter ausführen. Was beobachten Sie? Recherchieren Sie im Internet nach der Fehlermeldung. \n",
    "```"
   ]
  },
  {
   "cell_type": "code",
   "execution_count": 4,
   "id": "bf7e97ac",
   "metadata": {},
   "outputs": [],
   "source": [
    "# Geben Sie nach diesem Kommentar Ihren Code ein:\n"
   ]
  },
  {
   "cell_type": "markdown",
   "id": "f19dcaf7",
   "metadata": {},
   "source": [
    "````{admonition} Lösung\n",
    ":class: miniexercise, toggle\n",
    "```python\n",
    "n\n",
    "```\n",
    "Der Interpreter zeigt in rot eine Fehlermeldung an: \"NameError: name 'n' is not defined\". Damit weist der Interpreter darauf hin, dass die Variable bisher nicht mit einem Wert versehen wurde, sie ist nicht intialisiert worden. Daher kann damit auch nicht gearbeitet werden.\n",
    "````\n",
    "\n",
    "Gerne können Sie sich auch folgendes Video auf YouTube ansehen, das eine\n",
    "Einführung in das Thema Variablen in Python gibt.\n",
    "\n",
    "```{dropdown} Video \"Variablen in Python\" von Programmieren Starten\n",
    "<iframe width=\"560\" height=\"315\" src=\"https://www.youtube.com/embed/jfOLXKPGXJ0\" title=\"YouTube video player\" frameborder=\"0\" allow=\"accelerometer; autoplay; clipboard-write; encrypted-media; gyroscope; picture-in-picture; web-share\" allowfullscreen></iframe>\n",
    "```\n",
    "\n",
    "## Richtlinien für Variablennamen\n",
    "\n",
    "Früher war der Speicherplatz von Computern klein, daher wurden häufig nur kurze\n",
    "Variablennamen wie beispielsweise i oder N verwendet. Heutzutage ist es\n",
    "Standard, nur in Ausnahmefällen (z.B. in Schleifen, dazu kommen wir noch) kurze\n",
    "Variablennamen zu nehmen. Stattdessen werden Namen benutzt, bei denen man\n",
    "erraten kann, was die Variable für einen Einsatzzweck hat. Beispielsweise lässt\n",
    "der Code"
   ]
  },
  {
   "cell_type": "code",
   "execution_count": 5,
   "id": "cc3c1a53",
   "metadata": {},
   "outputs": [
    {
     "name": "stdout",
     "output_type": "stream",
     "text": [
      "95.2\n"
     ]
    }
   ],
   "source": [
    "m = 0.19\n",
    "n = 80\n",
    "b = n + m * n\n",
    "print(b)"
   ]
  },
  {
   "cell_type": "markdown",
   "id": "91f0a8f4",
   "metadata": {},
   "source": [
    "nur schwer vermuten, was damit bezweckt wird. Oder können Sie erahnen, was dort passieren soll?\n",
    "Dagegen erahnt man bei diesem Code schon eher, was bezweckt wird:"
   ]
  },
  {
   "cell_type": "code",
   "execution_count": 6,
   "id": "8da9993a",
   "metadata": {},
   "outputs": [
    {
     "name": "stdout",
     "output_type": "stream",
     "text": [
      "95.2\n"
     ]
    }
   ],
   "source": [
    "mehrwertsteuersatz = 19/100\n",
    "nettopreis = 80\n",
    "bruttopreis = nettopreis + mehrwertsteuersatz * nettopreis\n",
    "print(bruttopreis)"
   ]
  },
  {
   "cell_type": "markdown",
   "id": "f505f1e9",
   "metadata": {},
   "source": [
    "Verwenden Sie für Variablennamen nur ASCII-Zeichen, also keine Umlaute wie ö, ü\n",
    "oder ß. Zahlen sind erlaubt, aber nicht am Anfang des Namens. Es ist sinnvoll,\n",
    "lange Variablen durch einen Unterstrich besser lesbar zu gestalten (sogenannte\n",
    "Snake-Case-Formatierung). Ich empfehle für Variablennamen beispielsweise\n",
    "`dateiname_alt` oder `dateiname_neu`, wenn beispielsweise eine Datei umbenannt\n",
    "wird. Sie sind frei in der Gestaltung der Variablennamen, verboten sind nur die\n",
    "sogannnten **Schlüsselwörter**. Schlüsselwörter sind beispielsweise eingebaute\n",
    "Kommandos an den Python-Interpreter. Würden Sie diese als Variablennamen\n",
    "benutzen, wüsste der Python-Interpreter nicht, ob das Kommando oder die Variable\n",
    "gemeint ist.\n",
    "\n",
    "```{admonition} Mini-Übung\n",
    ":class: miniexercise\n",
    "Initialisieren Sie eine Variable namens alter mit Ihrem aktuellen Alter, eine\n",
    "Variable ``rentenalter`` mit dem Zahlenwert ``67`` und berechnen Sie dann, wie\n",
    "viele Jahre es noch bis zum Renteneintritt dauert.\n",
    "```"
   ]
  },
  {
   "cell_type": "code",
   "execution_count": 7,
   "id": "4ee4236f",
   "metadata": {},
   "outputs": [],
   "source": [
    "# Geben Sie nach diesem Kommentar Ihren Code ein:\n"
   ]
  },
  {
   "cell_type": "markdown",
   "id": "77b4704e",
   "metadata": {},
   "source": [
    "````{admonition} Lösung\n",
    ":class: miniexercise, toggle\n",
    "```python\n",
    "# Geben Sie nach diesem Kommentar Ihren Code ein:\n",
    "alter = 21\n",
    "rentenalter = 67\n",
    "print(rentenalter - alter)\n",
    "```\n",
    "````\n",
    "\n",
    "## Zuweisungsoperator\n",
    "\n",
    "Wichtig ist, dass das `=` in der Informatik eine andere Bedeutung hat als in der\n",
    "Mathematik. = meint nicht das Gleichheitszeichen, sondern den sogenannten\n",
    "**Zuweisungsoperator**. Das ist in der Programmierung ein Kommando, das eine\n",
    "Schublade befüllt oder technischer ausgedrückt, ein Objekt einer Variable\n",
    "zuweist.\n",
    "\n",
    "Sehr häufig findet man Code wie\n",
    "\n",
    "```python\n",
    "x = x + 1\n",
    "```\n",
    "\n",
    "Würden wir dies als Gleichung lesen, wie wir es aus der Mathematik gewohnt sind,\n",
    "also $x = x+1$, könnten wir $x$ auf beiden Seiten subtrahieren und erhalten\n",
    "$0=1$. Wir wissen, dass dies nicht wahr ist, also stimmt hier etwas nicht.\n",
    "\n",
    "In Python sind \"Gleichungen\" keine mathematischen Gleichungen, sondern\n",
    "Zuweisungen. \"=\" ist kein Gleichheitszeichen im mathematischen Sinne, sondern\n",
    "eine Zuweisung. Die Zuweisung muss immer in der folgenden Weise zweistufig\n",
    "gelesen werden:\n",
    "\n",
    "1. Berechne den Wert auf der rechten Seite (also $x+1$).\n",
    "2. Weise den Wert auf der rechten Seite dem auf der linken Seite stehenden\n",
    "   Variablennamen zu.\n",
    "\n",
    "Wir probieren eine solche Zuweisung in der folgenden Code-Zelle aus und benutzen\n",
    "auch gleich die `print()`-Funktion, um den Wert der Variablen `x` ausgeben zu\n",
    "lassen:"
   ]
  },
  {
   "cell_type": "code",
   "execution_count": 8,
   "id": "c87a85f2",
   "metadata": {},
   "outputs": [
    {
     "name": "stdout",
     "output_type": "stream",
     "text": [
      "5\n"
     ]
    }
   ],
   "source": [
    "x = 4     \n",
    "x = x + 1\n",
    "print(x)"
   ]
  },
  {
   "cell_type": "markdown",
   "id": "72206547",
   "metadata": {},
   "source": [
    "Der Zuweisungsoperator ist äußerst wichtig in der Python-Programmierung. Daher\n",
    "empfehle ich Ihnen folgende Video.\n",
    "\n",
    "```{dropdown} Video \"Der Zuweisungsoperator\" von Programmieren Starten\n",
    "<iframe width=\"560\" height=\"315\" src=\"https://www.youtube.com/embed/XKFQ2_et5k8\" title=\"YouTube video player\" frameborder=\"0\" allow=\"accelerometer; autoplay; clipboard-write; encrypted-media; gyroscope; picture-in-picture; web-share\" allowfullscreen></iframe>\n",
    "```"
   ]
  }
 ],
 "metadata": {
  "jupytext": {
   "cell_metadata_filter": "-all",
   "formats": "ipynb,md:myst",
   "text_representation": {
    "extension": ".md",
    "format_name": "myst",
    "format_version": 0.13,
    "jupytext_version": "1.14.5"
   }
  },
  "kernelspec": {
   "display_name": "Python 3 (ipykernel)",
   "language": "python",
   "name": "python3"
  },
  "language_info": {
   "codemirror_mode": {
    "name": "ipython",
    "version": 3
   },
   "file_extension": ".py",
   "mimetype": "text/x-python",
   "name": "python",
   "nbconvert_exporter": "python",
   "pygments_lexer": "ipython3",
   "version": "3.12.2"
  },
  "source_map": [
   14,
   52,
   54,
   59,
   63,
   65,
   75,
   78,
   104,
   109,
   114,
   119,
   139,
   142,
   185,
   189
  ]
 },
 "nbformat": 4,
 "nbformat_minor": 5
}